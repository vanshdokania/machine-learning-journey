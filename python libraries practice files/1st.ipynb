{
 "cells": [
  {
   "cell_type": "code",
   "execution_count": 8,
   "id": "ae3b7830",
   "metadata": {},
   "outputs": [],
   "source": [
    "import numpy as np\n"
   ]
  },
  {
   "cell_type": "code",
   "execution_count": 9,
   "id": "4673769d",
   "metadata": {},
   "outputs": [
    {
     "name": "stdout",
     "output_type": "stream",
     "text": [
      "[1 2 3 4 5]\n"
     ]
    }
   ],
   "source": [
    "arry_1d = np.array([1,2,3,4,5])\n",
    "print(arry_1d)"
   ]
  },
  {
   "cell_type": "code",
   "execution_count": 10,
   "id": "a4bee75c",
   "metadata": {},
   "outputs": [
    {
     "name": "stdout",
     "output_type": "stream",
     "text": [
      "\n",
      " time taken was:  0.001127004623413086\n"
     ]
    }
   ],
   "source": [
    "import time as t\n",
    "start = t.time()\n",
    "arr_1d = [i*2 for i in range(10000)]\n",
    "print(\"\\n time taken was: \",t.time() - start)\n"
   ]
  },
  {
   "cell_type": "code",
   "execution_count": 11,
   "id": "cde72118",
   "metadata": {},
   "outputs": [
    {
     "name": "stdout",
     "output_type": "stream",
     "text": [
      "\n",
      " numpy took :  0.0004551410675048828\n"
     ]
    }
   ],
   "source": [
    "start = t.time()\n",
    "array_1d = np.arange(0,10000)\n",
    "print(\"\\n numpy took : \",t.time()-start)"
   ]
  },
  {
   "cell_type": "code",
   "execution_count": 12,
   "id": "4e45df0d",
   "metadata": {},
   "outputs": [
    {
     "name": "stdout",
     "output_type": "stream",
     "text": [
      "[[0. 0. 0. 0. 0. 0.]\n",
      " [0. 0. 0. 0. 0. 0.]\n",
      " [0. 0. 0. 0. 0. 0.]\n",
      " [0. 0. 0. 0. 0. 0.]\n",
      " [0. 0. 0. 0. 0. 0.]]\n"
     ]
    }
   ],
   "source": [
    "zero_array = np.zeros((5,6))\n",
    "print(zero_array)"
   ]
  },
  {
   "cell_type": "code",
   "execution_count": 13,
   "id": "d9a69de7",
   "metadata": {},
   "outputs": [
    {
     "name": "stdout",
     "output_type": "stream",
     "text": [
      "[[0.30043567 0.15206331 0.02081014 0.47679339 0.30029251 0.97667773]\n",
      " [0.73874145 0.54216457 0.91123978 0.54354327 0.74569324 0.64053119]\n",
      " [0.2849629  0.74212396 0.91231765 0.52053539 0.08528039 0.91857738]\n",
      " [0.15454294 0.09022748 0.70065072 0.7742817  0.6923896  0.84904121]\n",
      " [0.64987776 0.51679842 0.28438793 0.8879642  0.84674676 0.97213462]\n",
      " [0.93724238 0.80993153 0.50837049 0.670293   0.7156391  0.19548654]\n",
      " [0.4831291  0.8388519  0.20073173 0.60882872 0.38549412 0.789563  ]\n",
      " [0.97317901 0.03279274 0.16830589 0.50669529 0.36903504 0.81920561]\n",
      " [0.53974604 0.13506591 0.86817705 0.12374447 0.5658692  0.4643871 ]\n",
      " [0.2908789  0.26503552 0.90390075 0.40860304 0.04286167 0.55122022]]\n"
     ]
    }
   ],
   "source": [
    "rand_arr = np.random.random((10,6))\n",
    "print(rand_arr)\n"
   ]
  },
  {
   "cell_type": "markdown",
   "id": "7b49b45c",
   "metadata": {},
   "source": [
    "### this is practice matrice\n"
   ]
  },
  {
   "cell_type": "code",
   "execution_count": 1,
   "id": "ae7820db",
   "metadata": {},
   "outputs": [],
   "source": [
    "import numpy as np\n"
   ]
  },
  {
   "cell_type": "code",
   "execution_count": 2,
   "id": "b8c3df0a",
   "metadata": {},
   "outputs": [],
   "source": [
    "aaray_1d = np.array([1,2,3,4,5])"
   ]
  },
  {
   "cell_type": "code",
   "execution_count": 3,
   "id": "719bf64f",
   "metadata": {},
   "outputs": [
    {
     "name": "stdout",
     "output_type": "stream",
     "text": [
      "This is aarya_1d: [1 2 3 4 5]\n"
     ]
    }
   ],
   "source": [
    "print(\"This is aarya_1d:\", aaray_1d)"
   ]
  },
  {
   "cell_type": "code",
   "execution_count": 4,
   "id": "da3bc778",
   "metadata": {},
   "outputs": [
    {
     "ename": "ValueError",
     "evalue": "setting an array element with a sequence. The requested array has an inhomogeneous shape after 1 dimensions. The detected shape was (4,) + inhomogeneous part.",
     "output_type": "error",
     "traceback": [
      "\u001b[31m---------------------------------------------------------------------------\u001b[39m",
      "\u001b[31mValueError\u001b[39m                                Traceback (most recent call last)",
      "\u001b[36mCell\u001b[39m\u001b[36m \u001b[39m\u001b[32mIn[4]\u001b[39m\u001b[32m, line 1\u001b[39m\n\u001b[32m----> \u001b[39m\u001b[32m1\u001b[39m array_2d = \u001b[43mnp\u001b[49m\u001b[43m.\u001b[49m\u001b[43marray\u001b[49m\u001b[43m(\u001b[49m\u001b[43m[\u001b[49m\u001b[43m[\u001b[49m\u001b[32;43m12\u001b[39;49m\u001b[43m,\u001b[49m\u001b[32;43m2\u001b[39;49m\u001b[43m,\u001b[49m\u001b[32;43m4\u001b[39;49m\u001b[43m,\u001b[49m\u001b[32;43m1\u001b[39;49m\u001b[43m]\u001b[49m\u001b[43m,\u001b[49m\u001b[43m[\u001b[49m\u001b[32;43m12\u001b[39;49m\u001b[43m,\u001b[49m\u001b[32;43m24\u001b[39;49m\u001b[43m,\u001b[49m\u001b[32;43m1\u001b[39;49m\u001b[43m]\u001b[49m\u001b[43m,\u001b[49m\u001b[43m[\u001b[49m\u001b[32;43m1\u001b[39;49m\u001b[43m]\u001b[49m\u001b[43m,\u001b[49m\u001b[43m[\u001b[49m\u001b[43m[\u001b[49m\u001b[32;43m1\u001b[39;49m\u001b[43m,\u001b[49m\u001b[32;43m3\u001b[39;49m\u001b[43m]\u001b[49m\u001b[43m]\u001b[49m\u001b[43m]\u001b[49m\u001b[43m)\u001b[49m\n\u001b[32m      2\u001b[39m \u001b[38;5;28mprint\u001b[39m(\u001b[33m\"\u001b[39m\u001b[33mThis is the 2D array: \u001b[39m\u001b[33m\"\u001b[39m,array_2d)\n",
      "\u001b[31mValueError\u001b[39m: setting an array element with a sequence. The requested array has an inhomogeneous shape after 1 dimensions. The detected shape was (4,) + inhomogeneous part."
     ]
    }
   ],
   "source": [
    "array_2d = np.array([[12,2,4,1],[12,24,1],[1],[[1,3]]])\n",
    "print(\"This is the 2D array: \",array_2d)"
   ]
  },
  {
   "cell_type": "code",
   "execution_count": null,
   "id": "d26683f5",
   "metadata": {},
   "outputs": [
    {
     "ename": "ValueError",
     "evalue": "setting an array element with a sequence. The requested array has an inhomogeneous shape after 1 dimensions. The detected shape was (4,) + inhomogeneous part.",
     "output_type": "error",
     "traceback": [
      "\u001b[31m---------------------------------------------------------------------------\u001b[39m",
      "\u001b[31mValueError\u001b[39m                                Traceback (most recent call last)",
      "\u001b[36mCell\u001b[39m\u001b[36m \u001b[39m\u001b[32mIn[5]\u001b[39m\u001b[32m, line 1\u001b[39m\n\u001b[32m----> \u001b[39m\u001b[32m1\u001b[39m array_2d = \u001b[43mnp\u001b[49m\u001b[43m.\u001b[49m\u001b[43marray\u001b[49m\u001b[43m(\u001b[49m\u001b[43m[\u001b[49m\u001b[43m[\u001b[49m\u001b[32;43m12\u001b[39;49m\u001b[43m,\u001b[49m\u001b[32;43m2\u001b[39;49m\u001b[43m,\u001b[49m\u001b[32;43m4\u001b[39;49m\u001b[43m,\u001b[49m\u001b[32;43m1\u001b[39;49m\u001b[43m]\u001b[49m\u001b[43m,\u001b[49m\u001b[43m[\u001b[49m\u001b[32;43m12\u001b[39;49m\u001b[43m,\u001b[49m\u001b[32;43m24\u001b[39;49m\u001b[43m,\u001b[49m\u001b[32;43m1\u001b[39;49m\u001b[43m]\u001b[49m\u001b[43m,\u001b[49m\u001b[43m[\u001b[49m\u001b[32;43m1\u001b[39;49m\u001b[43m]\u001b[49m\u001b[43m,\u001b[49m\u001b[43m[\u001b[49m\u001b[32;43m1\u001b[39;49m\u001b[43m,\u001b[49m\u001b[32;43m3\u001b[39;49m\u001b[43m]\u001b[49m\u001b[43m]\u001b[49m\u001b[43m)\u001b[49m\n\u001b[32m      2\u001b[39m \u001b[38;5;28mprint\u001b[39m(\u001b[33m\"\u001b[39m\u001b[33mThis is the 2D array: \u001b[39m\u001b[33m\"\u001b[39m,array_2d)\n",
      "\u001b[31mValueError\u001b[39m: setting an array element with a sequence. The requested array has an inhomogeneous shape after 1 dimensions. The detected shape was (4,) + inhomogeneous part."
     ]
    }
   ],
   "source": [
    "array_2d = np.array([[12,2,4,1],[12,24,1,3],[1,32,12,3]])\n",
    "print(\"This is the 2D array: \",array_2d)"
   ]
  },
  {
   "cell_type": "code",
   "execution_count": 7,
   "id": "c27fe36a",
   "metadata": {},
   "outputs": [
    {
     "ename": "ValueError",
     "evalue": "setting an array element with a sequence. The requested array has an inhomogeneous shape after 1 dimensions. The detected shape was (3,) + inhomogeneous part.",
     "output_type": "error",
     "traceback": [
      "\u001b[31m---------------------------------------------------------------------------\u001b[39m",
      "\u001b[31mValueError\u001b[39m                                Traceback (most recent call last)",
      "\u001b[36mCell\u001b[39m\u001b[36m \u001b[39m\u001b[32mIn[7]\u001b[39m\u001b[32m, line 1\u001b[39m\n\u001b[32m----> \u001b[39m\u001b[32m1\u001b[39m array_2d = \u001b[43mnp\u001b[49m\u001b[43m.\u001b[49m\u001b[43marray\u001b[49m\u001b[43m(\u001b[49m\u001b[43m[\u001b[49m\u001b[43m[\u001b[49m\u001b[32;43m12\u001b[39;49m\u001b[43m,\u001b[49m\u001b[32;43m2\u001b[39;49m\u001b[43m,\u001b[49m\u001b[32;43m4\u001b[39;49m\u001b[43m,\u001b[49m\u001b[32;43m1\u001b[39;49m\u001b[43m]\u001b[49m\u001b[43m,\u001b[49m\u001b[43m[\u001b[49m\u001b[32;43m12\u001b[39;49m\u001b[43m,\u001b[49m\u001b[32;43m24\u001b[39;49m\u001b[43m,\u001b[49m\u001b[32;43m1\u001b[39;49m\u001b[43m,\u001b[49m\u001b[32;43m3\u001b[39;49m\u001b[43m]\u001b[49m\u001b[43m,\u001b[49m\u001b[43m[\u001b[49m\u001b[32;43m1\u001b[39;49m\u001b[43m,\u001b[49m\u001b[32;43m32\u001b[39;49m\u001b[43m,\u001b[49m\u001b[32;43m3\u001b[39;49m\u001b[43m]\u001b[49m\u001b[43m]\u001b[49m\u001b[43m)\u001b[49m\n\u001b[32m      2\u001b[39m \u001b[38;5;28mprint\u001b[39m(\u001b[33m\"\u001b[39m\u001b[33mThis is the 2D array: \u001b[39m\u001b[33m\"\u001b[39m,array_2d)\n",
      "\u001b[31mValueError\u001b[39m: setting an array element with a sequence. The requested array has an inhomogeneous shape after 1 dimensions. The detected shape was (3,) + inhomogeneous part."
     ]
    }
   ],
   "source": [
    "array_2d = np.array([[12,2,4,1],[12,24,1,3],[1,32,3]])\n",
    "print(\"This is the 2D array: \",array_2d)"
   ]
  },
  {
   "cell_type": "code",
   "execution_count": 8,
   "id": "a29667a3",
   "metadata": {},
   "outputs": [
    {
     "name": "stdout",
     "output_type": "stream",
     "text": [
      "This is the 2D array:  [[12  2  4  1]\n",
      " [12 24  1  3]\n",
      " [ 1 32 12  3]]\n"
     ]
    }
   ],
   "source": [
    "array_2d = np.array([[12,2,4,1],[12,24,1,3],[1,32,12,3]])\n",
    "print(\"This is the 2D array: \",array_2d)"
   ]
  },
  {
   "cell_type": "code",
   "execution_count": 9,
   "id": "14884614",
   "metadata": {},
   "outputs": [
    {
     "name": "stdout",
     "output_type": "stream",
     "text": [
      "[1, 3, 5, 4, 1, 3, 5, 4]\n"
     ]
    }
   ],
   "source": [
    "py_list = [1,3,5,4]\n",
    "py_list2 = [1,34,35,3]\n",
    "print(py_list*2)"
   ]
  },
  {
   "cell_type": "code",
   "execution_count": 10,
   "id": "1db1dd0a",
   "metadata": {},
   "outputs": [
    {
     "name": "stdout",
     "output_type": "stream",
     "text": [
      "[1, 3, 5, 4, 1, 34, 35, 3]\n"
     ]
    }
   ],
   "source": [
    "print(py_list+py_list2)"
   ]
  },
  {
   "cell_type": "code",
   "execution_count": 11,
   "id": "f971904b",
   "metadata": {},
   "outputs": [
    {
     "name": "stdout",
     "output_type": "stream",
     "text": [
      "[  2 446  46]\n"
     ]
    }
   ],
   "source": [
    "a1 = np.array([1,223,23])\n",
    "print(a1*2)"
   ]
  },
  {
   "cell_type": "code",
   "execution_count": 15,
   "id": "19c1bcde",
   "metadata": {},
   "outputs": [
    {
     "name": "stdout",
     "output_type": "stream",
     "text": [
      "[  2 247 455]\n"
     ]
    }
   ],
   "source": [
    "a2 = np.array([1,24,432])\n",
    "print(a1+a2)"
   ]
  },
  {
   "cell_type": "code",
   "execution_count": 20,
   "id": "6711ea08",
   "metadata": {},
   "outputs": [
    {
     "name": "stdout",
     "output_type": "stream",
     "text": [
      "the 0th element is:  1 and the time is: 16\n",
      "the 1th element is:  2 and the time is: 32\n",
      "the 2th element is:  4 and the time is: 38\n",
      "the 3th element is:  2 and the time is: 43\n",
      "the 4th element is:  1 and the time is: 48\n",
      "the 5th element is:  3 and the time is: 53\n",
      "the 6th element is:  12 and the time is: 59\n",
      "the 7th element is:  23 and the time is: 64\n",
      "the 8th element is:  14 and the time is: 68\n",
      "the 9th element is:  234 and the time is: 73\n",
      "the 10th element is:  45 and the time is: 76\n",
      "the 11th element is:  43 and the time is: 81\n",
      "the 12th element is:  53 and the time is: 85\n",
      "the 13th element is:  4 and the time is: 90\n",
      "the 14th element is:  53 and the time is: 95\n",
      "the 15th element is:  52 and the time is: 100\n",
      "the 16th element is:  3 and the time is: 103\n",
      "the 17th element is:  3 and the time is: 108\n",
      "the 18th element is:  12 and the time is: 113\n",
      "the 19th element is:  23 and the time is: 117\n",
      "the 20th element is:  423 and the time is: 122\n",
      "the 21th element is:  42 and the time is: 127\n"
     ]
    }
   ],
   "source": [
    "import time as time \n",
    "start = time.time()\n",
    "ar = np.array([1,2,4,2,1,3,12,23,14,234,45,43,53,4,53,52,3,3,12,23,423,42])\n",
    "for i in range(0,ar.size):\n",
    "    print(f'the {i}th element is: ', ar[i] , 'and the time is:' , round((time.time()-start)*100000))"
   ]
  },
  {
   "cell_type": "code",
   "execution_count": 29,
   "id": "c23a33ed",
   "metadata": {},
   "outputs": [
    {
     "data": {
      "image/png": "[encoded data removed]",
      "text/plain": [
       "<Figure size 1000x500 with 1 Axes>"
      ]
     },
     "metadata": {},
     "output_type": "display_data"
    }
   ],
   "source": [
    "import matplotlib.pyplot as plt\n",
    "times = []\n",
    "ar = np.random.randint(0, 1000, size=1000)\n",
    "start = time.time()\n",
    "for i in range(0,ar.size):\n",
    "    for j in range(0,ar.size):\n",
    "        times.append(time.time()-start)\n",
    "plt.figure(figsize=(10, 5))\n",
    "plt.plot(range(ar.size*ar.size), times, marker='o', linestyle='-')\n",
    "plt.grid(True)\n",
    "plt.show()"
   ]
  },
  {
   "cell_type": "code",
   "execution_count": 31,
   "id": "ae5c5b2a",
   "metadata": {},
   "outputs": [
    {
     "data": {
      "image/png": "[encoded data removed]",
      "text/plain": [
       "<Figure size 640x480 with 1 Axes>"
      ]
     },
     "metadata": {},
     "output_type": "display_data"
    }
   ],
   "source": [
    "import time\n",
    "import numpy as np\n",
    "import matplotlib.pyplot as plt\n",
    "\n",
    "sizes = [100, 200, 300, 400, 500]\n",
    "total_times = []\n",
    "\n",
    "for n in sizes:\n",
    "    ar = np.random.randint(0, 1000, size=n)\n",
    "    start = time.time()\n",
    "    for i in range(n):\n",
    "        for j in range(n):\n",
    "            _ = ar[i] + ar[j]  # simulate constant work\n",
    "    total_times.append(time.time() - start)\n",
    "\n",
    "plt.plot(sizes, total_times, marker='o')\n",
    "plt.xlabel('Input Size (n)')\n",
    "plt.ylabel('Total Time (s)')\n",
    "plt.title('True O(n²) Time Growth')\n",
    "plt.grid(True)\n",
    "plt.show()\n"
   ]
  },
  {
   "cell_type": "code",
   "execution_count": null,
   "id": "f75cf832",
   "metadata": {},
   "outputs": [],
   "source": [
    "arr = np.arange()"
   ]
  }
 ],
 "metadata": {
  "kernelspec": {
   "display_name": "base",
   "language": "python",
   "name": "python3"
  },
  "language_info": {
   "codemirror_mode": {
    "name": "ipython",
    "version": 3
   },
   "file_extension": ".py",
   "mimetype": "text/x-python",
   "name": "python",
   "nbconvert_exporter": "python",
   "pygments_lexer": "ipython3",
   "version": "3.13.5"
  }
 },
 "nbformat": 4,
 "nbformat_minor": 5
}
