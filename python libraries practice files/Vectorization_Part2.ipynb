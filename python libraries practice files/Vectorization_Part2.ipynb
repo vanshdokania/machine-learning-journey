{
 "cells": [
  {
   "cell_type": "markdown",
   "metadata": {},
   "source": [
    "# Vectorization Part 2 - Linear Regression with Multiple Variables\n",
    "This notebook covers:\n",
    "- Hypothesis function using matrix multiplication\n",
    "- Vectorized cost function\n",
    "- Gradient descent in vectorized form"
   ]
  },
  {
   "cell_type": "code",
   "execution_count": 1,
   "metadata": {},
   "outputs": [],
   "source": [
    "# Import libraries\n",
    "import numpy as np"
   ]
  },
  {
   "cell_type": "code",
   "execution_count": 2,
   "metadata": {},
   "outputs": [],
   "source": [
    "# Sample training data with multiple features and a bias column\n",
    "X = np.array([\n",
    "    [1, 2104, 5, 1, 45],\n",
    "    [1, 1416, 3, 2, 40],\n",
    "    [1, 1534, 3, 2, 30],\n",
    "    [1, 852, 2, 1, 36]\n",
    "])\n",
    "\n",
    "y = np.array([[460], [232], [315], [178]])\n",
    "theta = np.zeros((5, 1))"
   ]
  },
  {
   "cell_type": "code",
   "execution_count": 3,
   "metadata": {},
   "outputs": [],
   "source": [
    "# Hypothesis function\n",
    "def hypothesis(X, theta):\n",
    "    return X @ theta"
   ]
  },
  {
   "cell_type": "code",
   "execution_count": 4,
   "metadata": {},
   "outputs": [],
   "source": [
    "# Cost function\n",
    "def compute_cost(X, y, theta):\n",
    "    m = y.shape[0]\n",
    "    h = hypothesis(X, theta)\n",
    "    return (1 / (2 * m)) * np.sum((h - y) ** 2)"
   ]
  },
  {
   "cell_type": "code",
   "execution_count": 5,
   "metadata": {},
   "outputs": [],
   "source": [
    "# Gradient descent\n",
    "def gradient_descent(X, y, theta, alpha, iterations):\n",
    "    m = y.shape[0]\n",
    "    for _ in range(iterations):\n",
    "        h = hypothesis(X, theta)\n",
    "        theta -= (alpha / m) * (X.T @ (h - y))\n",
    "    return theta"
   ]
  },
  {
   "cell_type": "code",
   "execution_count": 6,
   "metadata": {},
   "outputs": [
    {
     "name": "stdout",
     "output_type": "stream",
     "text": [
      "Optimized theta:\n",
      " [[nan]\n",
      " [nan]\n",
      " [nan]\n",
      " [nan]\n",
      " [nan]]\n",
      "Final cost: nan\n"
     ]
    },
    {
     "name": "stderr",
     "output_type": "stream",
     "text": [
      "C:\\Users\\vansh\\AppData\\Local\\Temp\\ipykernel_18808\\3666793074.py:6: RuntimeWarning: overflow encountered in matmul\n",
      "  theta -= (alpha / m) * (X.T @ (h - y))\n",
      "C:\\Users\\vansh\\AppData\\Local\\Temp\\ipykernel_18808\\3666793074.py:6: RuntimeWarning: invalid value encountered in subtract\n",
      "  theta -= (alpha / m) * (X.T @ (h - y))\n"
     ]
    }
   ],
   "source": [
    "# Run training\n",
    "alpha = 0.01\n",
    "iterations = 1000\n",
    "theta = gradient_descent(X, y, theta, alpha, iterations)\n",
    "\n",
    "print(\"Optimized theta:\\n\", theta)\n",
    "print(\"Final cost:\", compute_cost(X, y, theta))"
   ]
  },
  {
   "cell_type": "code",
   "execution_count": null,
   "metadata": {},
   "outputs": [],
   "source": []
  }
 ],
 "metadata": {
  "kernelspec": {
   "display_name": "base",
   "language": "python",
   "name": "python3"
  },
  "language_info": {
   "codemirror_mode": {
    "name": "ipython",
    "version": 3
   },
   "file_extension": ".py",
   "mimetype": "text/x-python",
   "name": "python",
   "nbconvert_exporter": "python",
   "pygments_lexer": "ipython3",
   "version": "3.13.5"
  }
 },
 "nbformat": 4,
 "nbformat_minor": 2
}
