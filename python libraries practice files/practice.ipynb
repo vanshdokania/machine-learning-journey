{
 "cells": [
  {
   "cell_type": "code",
   "execution_count": 1,
   "id": "d42be7bf",
   "metadata": {},
   "outputs": [],
   "source": [
    "import pandas as pd"
   ]
  },
  {
   "cell_type": "code",
   "execution_count": 2,
   "id": "49a6d0d3",
   "metadata": {},
   "outputs": [
    {
     "name": "stdout",
     "output_type": "stream",
     "text": [
      "        crim    zn  indus  chas    nox     rm   age     dis  rad  tax  \\\n",
      "0    0.00632  18.0   2.31     0  0.538  6.575  65.2  4.0900    1  296   \n",
      "1    0.02731   0.0   7.07     0  0.469  6.421  78.9  4.9671    2  242   \n",
      "2    0.02729   0.0   7.07     0  0.469  7.185  61.1  4.9671    2  242   \n",
      "3    0.03237   0.0   2.18     0  0.458  6.998  45.8  6.0622    3  222   \n",
      "4    0.06905   0.0   2.18     0  0.458  7.147  54.2  6.0622    3  222   \n",
      "..       ...   ...    ...   ...    ...    ...   ...     ...  ...  ...   \n",
      "501  0.06263   0.0  11.93     0  0.573  6.593  69.1  2.4786    1  273   \n",
      "502  0.04527   0.0  11.93     0  0.573  6.120  76.7  2.2875    1  273   \n",
      "503  0.06076   0.0  11.93     0  0.573  6.976  91.0  2.1675    1  273   \n",
      "504  0.10959   0.0  11.93     0  0.573  6.794  89.3  2.3889    1  273   \n",
      "505  0.04741   0.0  11.93     0  0.573  6.030  80.8  2.5050    1  273   \n",
      "\n",
      "     ptratio       b  lstat  medv  \n",
      "0       15.3  396.90   4.98  24.0  \n",
      "1       17.8  396.90   9.14  21.6  \n",
      "2       17.8  392.83   4.03  34.7  \n",
      "3       18.7  394.63   2.94  33.4  \n",
      "4       18.7  396.90   5.33  36.2  \n",
      "..       ...     ...    ...   ...  \n",
      "501     21.0  391.99   9.67  22.4  \n",
      "502     21.0  396.90   9.08  20.6  \n",
      "503     21.0  396.90   5.64  23.9  \n",
      "504     21.0  393.45   6.48  22.0  \n",
      "505     21.0  396.90   7.88  11.9  \n",
      "\n",
      "[506 rows x 14 columns]\n"
     ]
    }
   ],
   "source": [
    "dataset_housing = pd.read_csv('BostonHousing.csv')\n",
    "print(dataset_housing)\n"
   ]
  },
  {
   "cell_type": "code",
   "execution_count": 3,
   "id": "42af56c6",
   "metadata": {},
   "outputs": [
    {
     "data": {
      "text/html": [
       "<div>\n",
       "<style scoped>\n",
       "    .dataframe tbody tr th:only-of-type {\n",
       "        vertical-align: middle;\n",
       "    }\n",
       "\n",
       "    .dataframe tbody tr th {\n",
       "        vertical-align: top;\n",
       "    }\n",
       "\n",
       "    .dataframe thead th {\n",
       "        text-align: right;\n",
       "    }\n",
       "</style>\n",
       "<table border=\"1\" class=\"dataframe\">\n",
       "  <thead>\n",
       "    <tr style=\"text-align: right;\">\n",
       "      <th></th>\n",
       "      <th>crim</th>\n",
       "      <th>zn</th>\n",
       "      <th>indus</th>\n",
       "      <th>chas</th>\n",
       "      <th>nox</th>\n",
       "      <th>rm</th>\n",
       "      <th>age</th>\n",
       "      <th>dis</th>\n",
       "      <th>rad</th>\n",
       "      <th>tax</th>\n",
       "      <th>ptratio</th>\n",
       "      <th>b</th>\n",
       "      <th>lstat</th>\n",
       "      <th>medv</th>\n",
       "    </tr>\n",
       "  </thead>\n",
       "  <tbody>\n",
       "    <tr>\n",
       "      <th>0</th>\n",
       "      <td>0.00632</td>\n",
       "      <td>18.0</td>\n",
       "      <td>2.31</td>\n",
       "      <td>0</td>\n",
       "      <td>0.538</td>\n",
       "      <td>6.575</td>\n",
       "      <td>65.2</td>\n",
       "      <td>4.0900</td>\n",
       "      <td>1</td>\n",
       "      <td>296</td>\n",
       "      <td>15.3</td>\n",
       "      <td>396.90</td>\n",
       "      <td>4.98</td>\n",
       "      <td>24.0</td>\n",
       "    </tr>\n",
       "    <tr>\n",
       "      <th>1</th>\n",
       "      <td>0.02731</td>\n",
       "      <td>0.0</td>\n",
       "      <td>7.07</td>\n",
       "      <td>0</td>\n",
       "      <td>0.469</td>\n",
       "      <td>6.421</td>\n",
       "      <td>78.9</td>\n",
       "      <td>4.9671</td>\n",
       "      <td>2</td>\n",
       "      <td>242</td>\n",
       "      <td>17.8</td>\n",
       "      <td>396.90</td>\n",
       "      <td>9.14</td>\n",
       "      <td>21.6</td>\n",
       "    </tr>\n",
       "    <tr>\n",
       "      <th>2</th>\n",
       "      <td>0.02729</td>\n",
       "      <td>0.0</td>\n",
       "      <td>7.07</td>\n",
       "      <td>0</td>\n",
       "      <td>0.469</td>\n",
       "      <td>7.185</td>\n",
       "      <td>61.1</td>\n",
       "      <td>4.9671</td>\n",
       "      <td>2</td>\n",
       "      <td>242</td>\n",
       "      <td>17.8</td>\n",
       "      <td>392.83</td>\n",
       "      <td>4.03</td>\n",
       "      <td>34.7</td>\n",
       "    </tr>\n",
       "    <tr>\n",
       "      <th>3</th>\n",
       "      <td>0.03237</td>\n",
       "      <td>0.0</td>\n",
       "      <td>2.18</td>\n",
       "      <td>0</td>\n",
       "      <td>0.458</td>\n",
       "      <td>6.998</td>\n",
       "      <td>45.8</td>\n",
       "      <td>6.0622</td>\n",
       "      <td>3</td>\n",
       "      <td>222</td>\n",
       "      <td>18.7</td>\n",
       "      <td>394.63</td>\n",
       "      <td>2.94</td>\n",
       "      <td>33.4</td>\n",
       "    </tr>\n",
       "    <tr>\n",
       "      <th>4</th>\n",
       "      <td>0.06905</td>\n",
       "      <td>0.0</td>\n",
       "      <td>2.18</td>\n",
       "      <td>0</td>\n",
       "      <td>0.458</td>\n",
       "      <td>7.147</td>\n",
       "      <td>54.2</td>\n",
       "      <td>6.0622</td>\n",
       "      <td>3</td>\n",
       "      <td>222</td>\n",
       "      <td>18.7</td>\n",
       "      <td>396.90</td>\n",
       "      <td>5.33</td>\n",
       "      <td>36.2</td>\n",
       "    </tr>\n",
       "  </tbody>\n",
       "</table>\n",
       "</div>"
      ],
      "text/plain": [
       "      crim    zn  indus  chas    nox     rm   age     dis  rad  tax  ptratio  \\\n",
       "0  0.00632  18.0   2.31     0  0.538  6.575  65.2  4.0900    1  296     15.3   \n",
       "1  0.02731   0.0   7.07     0  0.469  6.421  78.9  4.9671    2  242     17.8   \n",
       "2  0.02729   0.0   7.07     0  0.469  7.185  61.1  4.9671    2  242     17.8   \n",
       "3  0.03237   0.0   2.18     0  0.458  6.998  45.8  6.0622    3  222     18.7   \n",
       "4  0.06905   0.0   2.18     0  0.458  7.147  54.2  6.0622    3  222     18.7   \n",
       "\n",
       "        b  lstat  medv  \n",
       "0  396.90   4.98  24.0  \n",
       "1  396.90   9.14  21.6  \n",
       "2  392.83   4.03  34.7  \n",
       "3  394.63   2.94  33.4  \n",
       "4  396.90   5.33  36.2  "
      ]
     },
     "execution_count": 3,
     "metadata": {},
     "output_type": "execute_result"
    }
   ],
   "source": [
    "dataset_housing.head()"
   ]
  },
  {
   "cell_type": "code",
   "execution_count": 4,
   "id": "8c7bcb24",
   "metadata": {},
   "outputs": [
    {
     "name": "stderr",
     "output_type": "stream",
     "text": [
      "'kaggle' is not recognized as an internal or external command,\n",
      "operable program or batch file.\n"
     ]
    }
   ],
   "source": [
    "!kaggle datasets list -s \"fraud detection\""
   ]
  },
  {
   "cell_type": "code",
   "execution_count": 5,
   "id": "6071c709",
   "metadata": {},
   "outputs": [
    {
     "name": "stdout",
     "output_type": "stream",
     "text": [
      "ref                                                         title                                                   size  lastUpdated                 downloadCount  voteCount  usabilityRating  \n",
      "----------------------------------------------------------  ------------------------------------------------  ----------  --------------------------  -------------  ---------  ---------------  \n",
      "mlg-ulb/creditcardfraud                                     Credit Card Fraud Detection                         69155672  2018-03-23 01:17:27.913000         930534      12341  0.85294116       \n",
      "whenamancodes/fraud-detection                               Fraud Detection                                     69155672  2022-09-12 11:54:40.550000          10802        119  1.0              \n",
      "ealaxi/paysim1                                              Synthetic Financial Datasets For Fraud Detection   186385561  2017-04-03 08:40:34.403000         117515       1489  0.88235295       \n",
      "mishra5001/credit-card                                      Credit Card Fraud Detection                        117814223  2019-07-15 06:36:02.900000          23386        247  0.88235295       \n",
      "jainilcoder/online-payment-fraud-detection                  Online Payment Fraud Detection                     186385519  2022-10-26 12:35:46.007000          20114        160  0.9705882        \n",
      "nelgiriyewithana/credit-card-fraud-detection-dataset-2023   Credit Card Fraud Detection Dataset 2023           149953614  2023-09-18 10:00:19.780000          41667        584  1.0              \n",
      "rupakroy/online-payments-fraud-detection-dataset            Online Payments Fraud Detection Dataset            186385561  2022-04-17 15:34:44.267000          27175        233  0.9705882        \n",
      "kartik2112/fraud-detection                                  Credit Card Transactions Fraud Detection Dataset   211766662  2020-08-05 15:20:55.217000          83678        485  0.85294116       \n",
      "shivamb/vehicle-claim-fraud-detection                       Vehicle Insurance Claim Fraud Detection               356667  2021-12-20 04:26:36.593000          15580        163  0.9411765        \n",
      "sriharshaeedala/financial-fraud-detection-dataset           Financial Fraud Detection Dataset                  186385561  2024-03-07 18:02:06.393000           8195         55  1.0              \n",
      "amanalisiddiqui/fraud-detection-dataset                     Fraud Detection Dataset                            186385521  2025-03-28 08:08:56.350000           2840         28  1.0              \n",
      "valakhorasani/bank-transaction-dataset-for-fraud-detection  Bank Transaction Dataset for Fraud Detection          104518  2024-11-04 09:23:49.727000          17192        185  1.0              \n",
      "sameerk2004/fraud-detection-dataset                         Fraud Detection Dataset                               169109  2024-11-09 13:03:35.987000           2362         34  0.88235295       \n",
      "samayashar/fraud-detection-transactions-dataset             Fraud Detection Transactions Dataset                 2104444  2025-02-21 18:06:23.687000           5289         48  1.0              \n",
      "marusagar/bank-transaction-fraud-detection                  Bank Transaction Fraud Detection                    26701215  2025-02-01 04:04:43.853000           3843         47  1.0              \n",
      "vagifa/ethereum-frauddetection-dataset                      Ethereum Fraud Detection Dataset                      944991  2021-01-03 10:05:14.887000           6781         78  0.8235294        \n",
      "ranjitmandal/fraud-detection-dataset-csv                    Fraud Detection Dataset                               874147  2025-03-09 08:15:25.277000           2907         36  0.8235294        \n",
      "rohitrox/healthcare-provider-fraud-detection-analysis        HEALTHCARE PROVIDER FRAUD DETECTION ANALYSIS       26631783  2019-05-09 19:50:55.237000          28989        309  0.64705884       \n",
      "bhadramohit/credit-card-fraud-detection                     Credit Card Fraud Detection                          1830392  2024-10-21 09:26:17.127000           4978         42  1.0              \n",
      "iabhishekofficial/creditcard-fraud-detection                CreditCard-Fraud-Detection                           7519804  2023-07-22 06:23:30.113000           4877         51  0.7647059        \n"
     ]
    }
   ],
   "source": [
    "!C:/Users/vansh/AppData/Roaming/Python/Python313/Scripts/kaggle datasets list -s \"fraud detection\"\n",
    "\n"
   ]
  },
  {
   "cell_type": "code",
   "execution_count": null,
   "id": "33728fd7",
   "metadata": {},
   "outputs": [],
   "source": []
  }
 ],
 "metadata": {
  "kernelspec": {
   "display_name": "base",
   "language": "python",
   "name": "python3"
  },
  "language_info": {
   "codemirror_mode": {
    "name": "ipython",
    "version": 3
   },
   "file_extension": ".py",
   "mimetype": "text/x-python",
   "name": "python",
   "nbconvert_exporter": "python",
   "pygments_lexer": "ipython3",
   "version": "3.13.5"
  }
 },
 "nbformat": 4,
 "nbformat_minor": 5
}
